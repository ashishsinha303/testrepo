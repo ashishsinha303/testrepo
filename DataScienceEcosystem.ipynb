{
 "cells": [
  {
   "cell_type": "markdown",
   "id": "781d998f-ce0d-42b1-810b-65ca171683cd",
   "metadata": {},
   "source": [
    "# Data Science Tools and Ecosystem"
   ]
  },
  {
   "cell_type": "markdown",
   "id": "c0610ca7-ec49-4349-9207-98c263d02be4",
   "metadata": {},
   "source": [
    "# In this notebook, Data Science Tools and Ecosystem are summarized."
   ]
  },
  {
   "cell_type": "markdown",
   "id": "0f593ed7-11a1-4ff3-9e75-5cd7dbda2425",
   "metadata": {
    "tags": []
   },
   "source": [
    "# Some of the popular languages that Data Scientists use are:\n",
    "# -python\n",
    "# -R\n",
    "# -Scala"
   ]
  },
  {
   "cell_type": "markdown",
   "id": "3714ba20-b337-4ac4-a910-da547f92a6e8",
   "metadata": {},
   "source": [
    "**Objectives:**\n",
    "- Python\n",
    "- Scala\n",
    "- R\n",
    "- SQL"
   ]
  },
  {
   "cell_type": "markdown",
   "id": "4b38bf1b-8dcb-4ab0-9e86-60e6c58c0101",
   "metadata": {},
   "source": [
    "# Some of the commonly used libraries used by Data Scientists include:\n",
    "- PANDAS\n",
    "- Matplotlib\n",
    "- NumPY\n",
    "- Pytorch\n",
    "- Keras"
   ]
  },
  {
   "cell_type": "markdown",
   "id": "037d93f7-181e-4cf0-ad41-befb1634242a",
   "metadata": {},
   "source": [
    "|Data Science Tools|\n",
    "|------------------|\n",
    "|Production|\n",
    "|QA|\n",
    "|Development|"
   ]
  },
  {
   "cell_type": "markdown",
   "id": "7ab5c3fa-1d16-4ff7-b879-49f62854f50b",
   "metadata": {},
   "source": [
    "### Below are a few examples of evaluating arithmetic expressions in Python"
   ]
  },
  {
   "cell_type": "markdown",
   "id": "f8dcab93-45d0-4d10-8738-739fbdaaddc4",
   "metadata": {},
   "source": [
    "# This a simple arithmetic expression to mutiply then add integers\n"
   ]
  },
  {
   "cell_type": "code",
   "execution_count": 1,
   "id": "318c2291-a7fb-4c94-9ec4-a07c91841721",
   "metadata": {
    "tags": []
   },
   "outputs": [
    {
     "data": {
      "text/plain": [
       "17"
      ]
     },
     "execution_count": 1,
     "metadata": {},
     "output_type": "execute_result"
    }
   ],
   "source": [
    "(3*4)+5"
   ]
  },
  {
   "cell_type": "markdown",
   "id": "8a956228-c7d4-48fc-a340-ce0d274b17f3",
   "metadata": {},
   "source": [
    "# This will convert 200 minutes to hours by diving by 60"
   ]
  },
  {
   "cell_type": "code",
   "execution_count": 2,
   "id": "ede6443a-8b2f-4a9b-ae74-827bdc2191eb",
   "metadata": {
    "tags": []
   },
   "outputs": [
    {
     "data": {
      "text/plain": [
       "3.3333333333333335"
      ]
     },
     "execution_count": 2,
     "metadata": {},
     "output_type": "execute_result"
    }
   ],
   "source": [
    "200/60"
   ]
  },
  {
   "cell_type": "markdown",
   "id": "71f80d08-cc52-4424-9240-c1e35f0a2cbc",
   "metadata": {},
   "source": [
    "## Author\n",
    "Ashish Sinha"
   ]
  },
  {
   "cell_type": "code",
   "execution_count": null,
   "id": "605f20e4-1d8d-4447-b8eb-959dea7c63c1",
   "metadata": {},
   "outputs": [],
   "source": []
  }
 ],
 "metadata": {
  "kernelspec": {
   "display_name": "Python",
   "language": "python",
   "name": "conda-env-python-py"
  },
  "language_info": {
   "codemirror_mode": {
    "name": "ipython",
    "version": 3
   },
   "file_extension": ".py",
   "mimetype": "text/x-python",
   "name": "python",
   "nbconvert_exporter": "python",
   "pygments_lexer": "ipython3",
   "version": "3.7.12"
  }
 },
 "nbformat": 4,
 "nbformat_minor": 5
}
